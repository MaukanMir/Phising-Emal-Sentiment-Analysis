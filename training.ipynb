{
 "cells": [
  {
   "cell_type": "markdown",
   "metadata": {},
   "source": [
    "# Phising Email Sentiment Analysis"
   ]
  },
  {
   "cell_type": "markdown",
   "metadata": {},
   "source": [
    "# Imports"
   ]
  },
  {
   "cell_type": "code",
   "execution_count": 13,
   "metadata": {},
   "outputs": [],
   "source": [
    "import pandas as pd\n",
    "import numpy as np\n",
    "import seaborn as sns\n",
    "import matplotlib.pyplot as plt\n",
    "import re\n",
    "\n",
    "from transformers import AutoTokenizer\n",
    "\n",
    "from nltk.tokenize import word_tokenize\n",
    "\n",
    "from sklearn.feature_extraction.text import ENGLISH_STOP_WORDS\n",
    "\n",
    "from tensorflow.keras.layers import Dense, Bidirectional, Embedding, LSTM\n",
    "from tensorflow.keras.callbacks import EarlyStopping"
   ]
  },
  {
   "cell_type": "markdown",
   "metadata": {},
   "source": [
    "# Functions"
   ]
  },
  {
   "cell_type": "code",
   "execution_count": 14,
   "metadata": {},
   "outputs": [],
   "source": [
    "def check_for_nulls_dupes(df):\n",
    "  print(f\"Amount of Null Values: {df.isna().sum()}\")\n",
    "  print(f\"Amount of Dupe Values: {df.duplicated().sum()}\")\n",
    "\n",
    "def check_class_imbalance(target):\n",
    "  \n",
    "  unique, counts = np.unique(target, return_counts=True)\n",
    "  plt.figure(figsize=(10, 6))\n",
    "  plt.title(\"Target Class Breakdown\")\n",
    "  plt.pie(counts, labels=unique, startangle=140, autopct=\"%1.1f%%\")\n",
    "  plt.show()\n",
    "  \n",
    "  plt.figure(figsize=(10, 6))\n",
    "  plt.title(\"Target Class Breakdown\")\n",
    "  sns.countplot(x=target)\n",
    "  plt.xlabel(\"Target Classes\")\n",
    "  plt.ylabel(\"Counts\")\n",
    "  plt.xticks(rotation=45)\n",
    "  plt.show()\n",
    "\n",
    "def remove_stop(words):\n",
    "  word_tokens = \" \".join(word_tokenize(words)).split(\" \")\n",
    "  filtered_tokens = re.sub(r'[^a-zA-Z\\s]', \"\", word_tokens).split(\" \")\n",
    "  filtered_sentence = [w.lower().strip() for w in filtered_tokens if w.lower() not in ENGLISH_STOP_WORDS]\n",
    "  return \" \".join(filtered_sentence).strip()"
   ]
  },
  {
   "cell_type": "markdown",
   "metadata": {},
   "source": [
    "# EDA Analysis"
   ]
  },
  {
   "cell_type": "code",
   "execution_count": 17,
   "metadata": {},
   "outputs": [
    {
     "data": {
      "text/html": [
       "<div>\n",
       "<style scoped>\n",
       "    .dataframe tbody tr th:only-of-type {\n",
       "        vertical-align: middle;\n",
       "    }\n",
       "\n",
       "    .dataframe tbody tr th {\n",
       "        vertical-align: top;\n",
       "    }\n",
       "\n",
       "    .dataframe thead th {\n",
       "        text-align: right;\n",
       "    }\n",
       "</style>\n",
       "<table border=\"1\" class=\"dataframe\">\n",
       "  <thead>\n",
       "    <tr style=\"text-align: right;\">\n",
       "      <th></th>\n",
       "      <th>text_combined</th>\n",
       "      <th>label</th>\n",
       "    </tr>\n",
       "  </thead>\n",
       "  <tbody>\n",
       "    <tr>\n",
       "      <th>0</th>\n",
       "      <td>hpl nom may 25 2001 see attached file hplno 52...</td>\n",
       "      <td>0</td>\n",
       "    </tr>\n",
       "    <tr>\n",
       "      <th>1</th>\n",
       "      <td>nom actual vols 24 th forwarded sabrae zajac h...</td>\n",
       "      <td>0</td>\n",
       "    </tr>\n",
       "    <tr>\n",
       "      <th>2</th>\n",
       "      <td>enron actuals march 30 april 1 201 estimated a...</td>\n",
       "      <td>0</td>\n",
       "    </tr>\n",
       "    <tr>\n",
       "      <th>3</th>\n",
       "      <td>hpl nom may 30 2001 see attached file hplno 53...</td>\n",
       "      <td>0</td>\n",
       "    </tr>\n",
       "    <tr>\n",
       "      <th>4</th>\n",
       "      <td>hpl nom june 1 2001 see attached file hplno 60...</td>\n",
       "      <td>0</td>\n",
       "    </tr>\n",
       "    <tr>\n",
       "      <th>...</th>\n",
       "      <td>...</td>\n",
       "      <td>...</td>\n",
       "    </tr>\n",
       "    <tr>\n",
       "      <th>82481</th>\n",
       "      <td>info advantageapartmentscom infoadvantageapart...</td>\n",
       "      <td>1</td>\n",
       "    </tr>\n",
       "    <tr>\n",
       "      <th>82482</th>\n",
       "      <td>monkeyorg helpdeskmonkeyorg monkeyorg hi josep...</td>\n",
       "      <td>1</td>\n",
       "    </tr>\n",
       "    <tr>\n",
       "      <th>82483</th>\n",
       "      <td>help center infohelpcentercoza_infohelpcenterc...</td>\n",
       "      <td>1</td>\n",
       "    </tr>\n",
       "    <tr>\n",
       "      <th>82484</th>\n",
       "      <td>metamask infosofamekarcom verify metamask wall...</td>\n",
       "      <td>1</td>\n",
       "    </tr>\n",
       "    <tr>\n",
       "      <th>82485</th>\n",
       "      <td>fastway infofastwaycoza_infofastwaycoza_infofa...</td>\n",
       "      <td>1</td>\n",
       "    </tr>\n",
       "  </tbody>\n",
       "</table>\n",
       "<p>82486 rows × 2 columns</p>\n",
       "</div>"
      ],
      "text/plain": [
       "                                           text_combined  label\n",
       "0      hpl nom may 25 2001 see attached file hplno 52...      0\n",
       "1      nom actual vols 24 th forwarded sabrae zajac h...      0\n",
       "2      enron actuals march 30 april 1 201 estimated a...      0\n",
       "3      hpl nom may 30 2001 see attached file hplno 53...      0\n",
       "4      hpl nom june 1 2001 see attached file hplno 60...      0\n",
       "...                                                  ...    ...\n",
       "82481  info advantageapartmentscom infoadvantageapart...      1\n",
       "82482  monkeyorg helpdeskmonkeyorg monkeyorg hi josep...      1\n",
       "82483  help center infohelpcentercoza_infohelpcenterc...      1\n",
       "82484  metamask infosofamekarcom verify metamask wall...      1\n",
       "82485  fastway infofastwaycoza_infofastwaycoza_infofa...      1\n",
       "\n",
       "[82486 rows x 2 columns]"
      ]
     },
     "execution_count": 17,
     "metadata": {},
     "output_type": "execute_result"
    }
   ],
   "source": [
    "df = pd.read_csv(\"/Users/maukanmir/Downloads/archive/phishing_email.csv\")\n",
    "df"
   ]
  },
  {
   "cell_type": "markdown",
   "metadata": {},
   "source": [
    "# Check for Nulls and Dupes"
   ]
  },
  {
   "cell_type": "code",
   "execution_count": 18,
   "metadata": {},
   "outputs": [
    {
     "name": "stdout",
     "output_type": "stream",
     "text": [
      "Amount of Null Values: text_combined    0\n",
      "label            0\n",
      "dtype: int64\n",
      "Amount of Dupe Values: 408\n"
     ]
    }
   ],
   "source": [
    "check_for_nulls_dupes(df)"
   ]
  },
  {
   "cell_type": "code",
   "execution_count": 19,
   "metadata": {},
   "outputs": [],
   "source": [
    "df.drop_duplicates(inplace=True)"
   ]
  },
  {
   "cell_type": "markdown",
   "metadata": {},
   "source": [
    "# Check For Class Imbalance"
   ]
  },
  {
   "cell_type": "code",
   "execution_count": 20,
   "metadata": {},
   "outputs": [
    {
     "data": {
      "image/png": "[encoded data removed]",
      "text/plain": [
       "<Figure size 1000x600 with 1 Axes>"
      ]
     },
     "metadata": {},
     "output_type": "display_data"
    },
    {
     "data": {
      "image/png": "[encoded data removed]",
      "text/plain": [
       "<Figure size 1000x600 with 1 Axes>"
      ]
     },
     "metadata": {},
     "output_type": "display_data"
    }
   ],
   "source": [
    "check_class_imbalance(df[\"label\"])"
   ]
  },
  {
   "cell_type": "markdown",
   "metadata": {},
   "source": [
    "# Balanced Class means our model can generalize more accurately on unseen data."
   ]
  },
  {
   "cell_type": "markdown",
   "metadata": {},
   "source": [
    "# Data Visuals"
   ]
  },
  {
   "cell_type": "code",
   "execution_count": 21,
   "metadata": {},
   "outputs": [],
   "source": [
    "df[\"len_review\"] = df[\"text_combined\"].apply(lambda review: len(review))\n",
    "df[\"word_count\"] = df[\"text_combined\"].apply(lambda review: len(review.split(\" \")))"
   ]
  },
  {
   "cell_type": "code",
   "execution_count": 23,
   "metadata": {},
   "outputs": [],
   "source": [
    "cols = [\"len_review\", \"word_count\"]\n",
    "for col in cols:\n",
    "  plt.figure(figsize=(10, 7))\n",
    "  sns.histplot(df[col], kde=True)\n",
    "  plt.title(f\"The Distribution of {col}\")\n",
    "  plt.yscale(\"log\")\n",
    "  plt.xlabel(col)\n",
    "  plt.ylabel(\"Frequency\")\n",
    "  plt.xticks(rotation=45)\n",
    "  plt.show()"
   ]
  },
  {
   "cell_type": "markdown",
   "metadata": {},
   "source": [
    "# Data Preprocessing"
   ]
  },
  {
   "cell_type": "code",
   "execution_count": null,
   "metadata": {},
   "outputs": [],
   "source": [
    "df[\"text_combined\"] = df[\"text_combined\"].apply(remove_stop)"
   ]
  },
  {
   "cell_type": "markdown",
   "metadata": {},
   "source": []
  },
  {
   "cell_type": "code",
   "execution_count": null,
   "metadata": {},
   "outputs": [],
   "source": []
  }
 ],
 "metadata": {
  "kernelspec": {
   "display_name": "machine-learning-env",
   "language": "python",
   "name": "python3"
  },
  "language_info": {
   "codemirror_mode": {
    "name": "ipython",
    "version": 3
   },
   "file_extension": ".py",
   "mimetype": "text/x-python",
   "name": "python",
   "nbconvert_exporter": "python",
   "pygments_lexer": "ipython3",
   "version": "3.9.19"
  }
 },
 "nbformat": 4,
 "nbformat_minor": 2
}
